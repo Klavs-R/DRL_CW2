{
 "cells": [
  {
   "cell_type": "code",
   "execution_count": 13,
   "metadata": {},
   "outputs": [],
   "source": [
    "from agent import Agent \n",
    "from unityagents import UnityEnvironment\n",
    "\n",
    "import numpy as np\n",
    "import time\n",
    "import matplotlib.pyplot as plt\n",
    "import torch"
   ]
  },
  {
   "cell_type": "markdown",
   "metadata": {},
   "source": [
    "# Testing notebook \n",
    "## Recreate the example "
   ]
  },
  {
   "cell_type": "code",
   "execution_count": 2,
   "metadata": {},
   "outputs": [
    {
     "name": "stderr",
     "output_type": "stream",
     "text": [
      "INFO:unityagents:\n",
      "'Academy' started successfully!\n",
      "Unity Academy name: Academy\n",
      "        Number of Brains: 1\n",
      "        Number of External Brains : 1\n",
      "        Lesson number : 0\n",
      "        Reset Parameters :\n",
      "\t\tgoal_speed -> 1.0\n",
      "\t\tgoal_size -> 5.0\n",
      "Unity brain name: ReacherBrain\n",
      "        Number of Visual Observations (per agent): 0\n",
      "        Vector Observation space type: continuous\n",
      "        Vector Observation space size (per agent): 33\n",
      "        Number of stacked Vector Observation: 1\n",
      "        Vector Action space type: continuous\n",
      "        Vector Action space size (per agent): 4\n",
      "        Vector Action descriptions: , , , \n"
     ]
    }
   ],
   "source": [
    "# env = UnityEnvironment(file_name='Reacher.app')\n",
    "env = UnityEnvironment(file_name='Reacher2.app')"
   ]
  },
  {
   "cell_type": "code",
   "execution_count": 3,
   "metadata": {},
   "outputs": [],
   "source": [
    "# get the default brain\n",
    "brain_name = env.brain_names[0]\n",
    "brain = env.brains[brain_name]"
   ]
  },
  {
   "cell_type": "code",
   "execution_count": 4,
   "metadata": {},
   "outputs": [
    {
     "name": "stdout",
     "output_type": "stream",
     "text": [
      "Number of agents: 20\n",
      "Size of each action: 4\n",
      "There are 20 agents. Each observes a state with length: 33\n",
      "The state for the first agent looks like: [ 0.00000000e+00 -4.00000000e+00  0.00000000e+00  1.00000000e+00\n",
      " -0.00000000e+00 -0.00000000e+00 -4.37113883e-08  0.00000000e+00\n",
      "  0.00000000e+00  0.00000000e+00  0.00000000e+00  0.00000000e+00\n",
      "  0.00000000e+00  0.00000000e+00 -1.00000000e+01  0.00000000e+00\n",
      "  1.00000000e+00 -0.00000000e+00 -0.00000000e+00 -4.37113883e-08\n",
      "  0.00000000e+00  0.00000000e+00  0.00000000e+00  0.00000000e+00\n",
      "  0.00000000e+00  0.00000000e+00  5.75471878e+00 -1.00000000e+00\n",
      "  5.55726624e+00  0.00000000e+00  1.00000000e+00  0.00000000e+00\n",
      " -1.68164849e-01]\n"
     ]
    }
   ],
   "source": [
    "# reset the environment\n",
    "env_info = env.reset(train_mode=True)[brain_name]\n",
    "\n",
    "# number of agents\n",
    "num_agents = len(env_info.agents)\n",
    "print('Number of agents:', num_agents)\n",
    "\n",
    "# size of each action\n",
    "action_size = brain.vector_action_space_size\n",
    "print('Size of each action:', action_size)\n",
    "\n",
    "# examine the state space \n",
    "states = env_info.vector_observations\n",
    "state_size = states.shape[1]\n",
    "print('There are {} agents. Each observes a state with length: {}'.format(states.shape[0], state_size))\n",
    "print('The state for the first agent looks like:', states[0])"
   ]
  },
  {
   "cell_type": "code",
   "execution_count": 5,
   "metadata": {},
   "outputs": [],
   "source": [
    "# env_info = env.reset(train_mode=False)[brain_name]     # reset the environment    \n",
    "# states = env_info.vector_observations                  # get the current state (for each agent)\n",
    "# scores = np.zeros(num_agents)                          # initialize the score (for each agent)\n",
    "# while True:\n",
    "#     actions = np.random.randn(num_agents, action_size) # select an action (for each agent)\n",
    "#     actions = np.clip(actions, -1, 1)                  # all actions between -1 and 1\n",
    "#     env_info = env.step(actions)[brain_name]           # send all actions to tne environment\n",
    "#     next_states = env_info.vector_observations         # get next state (for each agent)\n",
    "#     rewards = env_info.rewards                         # get reward (for each agent)\n",
    "#     dones = env_info.local_done                        # see if episode finished\n",
    "#     scores += env_info.rewards                         # update the score (for each agent)\n",
    "#     states = next_states                               # roll over states to next time step\n",
    "#     if np.any(dones):                                  # exit loop if episode finished\n",
    "#         break\n",
    "# print(f\"Total score for each agent: {rewards}\")"
   ]
  },
  {
   "cell_type": "markdown",
   "metadata": {},
   "source": [
    "## Test the agent"
   ]
  },
  {
   "cell_type": "code",
   "execution_count": 6,
   "metadata": {},
   "outputs": [],
   "source": [
    "# def train_agent(agent, n_episodes=300, windows=[10, 100]):\n",
    "#     \"\"\"\n",
    "#     Training the agent\n",
    "#     \"\"\"\n",
    "#     scores = []\n",
    "#     avg_score = -np.inf\n",
    "#     max_avg_score = -np.inf\n",
    "#     start = time.perf_counter()\n",
    "\n",
    "#     win1, win2 = windows\n",
    "\n",
    "#     for i in range(n_episodes):\n",
    "#         info = env.reset(train_mode=True)[brain_name]\n",
    "#         agent.reset()\n",
    "#         state = info.vector_observations[0]\n",
    "#         score = 0 \n",
    "\n",
    "#         while True:\n",
    "#             action = agent.act(state)      \n",
    "#             info = env.step(action)[brain_name]\n",
    "            \n",
    "#             next_state = info.vector_observations[0]\n",
    "#             reward = info.rewards[0]\n",
    "#             done = info.local_done[0]\n",
    "#             score += reward\n",
    "            \n",
    "#             agent.step(state, action, reward, next_state, done)\n",
    "\n",
    "#             state = next_state\n",
    "\n",
    "#             if done:\n",
    "#                 break \n",
    "\n",
    "#         scores.append(score)\n",
    "\n",
    "#         if len(scores) > 99:\n",
    "#             avg_score = np.mean(scores[-100:])\n",
    "#             max_avg_score = max(avg_score, max_avg_score)\n",
    "            \n",
    "#         now = time.perf_counter() - start\n",
    "#         print(f\"\\r{int(now/60):02d}:{int(now%60):02d} Episode {i+1}/{n_episodes}, Max Avg: {max_avg_score:.4f}, Avg: {avg_score:.4f}, Current: {score:.4f}\", end=\"\")\n",
    "        \n",
    "#         # Set limit above requirement for good measure\n",
    "#         if avg_score > 30:\n",
    "#             print(f\"\\nSuccess, avg score of {avg_score:.2f} after {i} episodes\")\n",
    "#             break \n",
    "            \n",
    "#     avg_1 = [np.nan for _ in range(win1 - 1)]\n",
    "#     avg_2 = [np.nan for _ in range(win2 - 1)]\n",
    "\n",
    "#     for i in range(len(scores) - win1 + 1):\n",
    "#         avg_1.append(np.mean(scores[i:i+win1]))\n",
    "\n",
    "#     for i in range(len(scores) - win2 + 1):\n",
    "#         avg_2.append(np.mean(scores[i:i+win2]))\n",
    "\n",
    "#     plt.plot(scores, label=\"Individual\")\n",
    "#     plt.plot(avg_1, label=f\"Avg_Window = {win1}\")\n",
    "#     plt.plot(avg_2, label=f\"Avg_window = {win2}\")\n",
    "#     plt.xlabel(\"episode\")\n",
    "#     plt.ylabel(\"score\")\n",
    "#     plt.legend()\n",
    "#     plt.savefig(\"ouput_rewards.png\")\n",
    "#     plt.show()"
   ]
  },
  {
   "cell_type": "code",
   "execution_count": 7,
   "metadata": {
    "tags": []
   },
   "outputs": [],
   "source": [
    "# # Run overnight, see how it goes \n",
    "# agent = Agent(state_size, action_size, seed=10)\n",
    "# train_agent(agent)"
   ]
  },
  {
   "cell_type": "code",
   "execution_count": 8,
   "metadata": {},
   "outputs": [],
   "source": [
    "# env.close()"
   ]
  },
  {
   "cell_type": "markdown",
   "metadata": {},
   "source": [
    "## Try 20 Agent"
   ]
  },
  {
   "cell_type": "code",
   "execution_count": 9,
   "metadata": {},
   "outputs": [],
   "source": [
    "def train_agent2(agent, n_episodes=400, windows=[10, 100], scores=[]):\n",
    "    \"\"\"\n",
    "    Training the agent\n",
    "    \"\"\"\n",
    "    avg_score = -np.inf\n",
    "    max_avg_score = -np.inf\n",
    "    start = time.perf_counter()\n",
    "\n",
    "    win1, win2 = windows\n",
    "\n",
    "    for i in range(n_episodes):\n",
    "        info = env.reset(train_mode=True)[brain_name]\n",
    "        agent.reset()\n",
    "        states = info.vector_observations\n",
    "        score = 0 \n",
    "\n",
    "        while True:\n",
    "            actions = agent.act(states)\n",
    "            info = env.step(actions)[brain_name]\n",
    "            \n",
    "            next_states = info.vector_observations\n",
    "            rewards = info.rewards\n",
    "            dones = info.local_done\n",
    "            \n",
    "            score += np.mean(rewards)\n",
    "            \n",
    "            agent.step(states, actions, rewards, next_states, dones)\n",
    "\n",
    "            states = next_states\n",
    "\n",
    "            if np.any(dones):  \n",
    "                break\n",
    "\n",
    "        scores.append(score)\n",
    "\n",
    "        avg_score = np.mean(scores[-100:])\n",
    "        if len(scores) > 99:\n",
    "            max_avg_score = max(avg_score, max_avg_score)\n",
    "            \n",
    "        now = time.perf_counter() - start\n",
    "        print(f\"\\r{int(now/60):02d}:{int(now%60):02d} Episode {i+1}/{n_episodes} | Max Avg: {max_avg_score:.2f} | 100 Avg: {avg_score:.2f} | 10 Avg: {np.mean(scores[-10:]):.2f}\", end=\"\")\n",
    "        \n",
    "        # Set limit above requirement for good measure\n",
    "        if avg_score > 30:\n",
    "            print(f\"\\nSuccess, avg score of {avg_score:.2f} after {i} episodes\")\n",
    "            break \n",
    "            \n",
    "    avg_1 = [np.nan for _ in range(win1 - 1)]\n",
    "    avg_2 = [np.nan for _ in range(win2 - 1)]\n",
    "\n",
    "    for i in range(len(scores) - win1 + 1):\n",
    "        avg_1.append(np.mean(scores[i:i+win1]))\n",
    "\n",
    "    for i in range(len(scores) - win2 + 1):\n",
    "        avg_2.append(np.mean(scores[i:i+win2]))\n",
    "\n",
    "    plt.plot(scores, label=\"Individual\")\n",
    "    plt.plot(avg_1, label=f\"Avg_Window = {win1}\")\n",
    "    plt.plot(avg_2, label=f\"Avg_window = {win2}\")\n",
    "    plt.xlabel(\"episode\")\n",
    "    plt.ylabel(\"score\")\n",
    "    plt.legend()\n",
    "    plt.savefig(\"ouput_rewards.png\")\n",
    "    plt.show()\n",
    "    \n",
    "    return scores"
   ]
  },
  {
   "cell_type": "code",
   "execution_count": 10,
   "metadata": {},
   "outputs": [
    {
     "name": "stdout",
     "output_type": "stream",
     "text": [
      "Seed: 1886783\n",
      "101:15 Episode 308/400 | Max Avg: 30.01 | 100 Avg: 30.01 | 10 Avg: 31.63\n",
      "Success, avg score of 30.01 after 307 episodes\n"
     ]
    },
    {
     "data": {
      "image/png": "[encoded data removed]",
      "text/plain": [
       "<Figure size 432x288 with 1 Axes>"
      ]
     },
     "metadata": {
      "needs_background": "light"
     },
     "output_type": "display_data"
    }
   ],
   "source": [
    "seed = np.random.randint(2e6)\n",
    "print(f\"Seed: {seed}\")\n",
    "agent = Agent(state_size, action_size, seed=seed, multi=True)\n",
    "score = train_agent2(agent)"
   ]
  },
  {
   "cell_type": "markdown",
   "metadata": {},
   "source": [
    "## Save Params"
   ]
  },
  {
   "cell_type": "code",
   "execution_count": 17,
   "metadata": {},
   "outputs": [],
   "source": [
    "torch.save(agent.local_actor.state_dict(), \"model_weights/act_local.trch\")\n",
    "torch.save(agent.target_actor.state_dict(), \"model_weights/act_target.trch\")\n",
    "\n",
    "torch.save(agent.local_critic.state_dict(), \"model_weights/crit_local.trch\")\n",
    "torch.save(agent.target_critic.state_dict(), \"model_weights/crit_target.trch\")"
   ]
  },
  {
   "cell_type": "code",
   "execution_count": 19,
   "metadata": {},
   "outputs": [],
   "source": [
    "# Test loading \n",
    "agent2 = Agent(state_size, action_size, seed=seed, multi=True)\n",
    "\n",
    "agent2.local_actor.load_state_dict(torch.load(\"model_weights/act_local.trch\"))\n",
    "agent2.target_actor.load_state_dict(torch.load(\"model_weights/act_target.trch\"))\n",
    "agent2.local_critic.load_state_dict(torch.load(\"model_weights/crit_local.trch\"))\n",
    "agent2.target_critic.load_state_dict(torch.load(\"model_weights/crit_target.trch\"))"
   ]
  },
  {
   "cell_type": "code",
   "execution_count": 24,
   "metadata": {},
   "outputs": [
    {
     "name": "stdout",
     "output_type": "stream",
     "text": [
      "Mean scores from group 1: 32.36649927655235\n",
      "Mean scores from group 2: 31.78449928956106\n"
     ]
    }
   ],
   "source": [
    "# Watch trained agent\n",
    "env_info = env.reset(train_mode=False)[brain_name]    \n",
    "states = env_info.vector_observations                 \n",
    "\n",
    "for i in range(2):\n",
    "    scores = [0 for _ in range(20)]\n",
    "\n",
    "    while True:\n",
    "        actions = agent2.act(states, inc_noise=False)\n",
    "\n",
    "        env_info = env.step(actions)[brain_name]          \n",
    "        next_states = env_info.vector_observations        \n",
    "        rewards = env_info.rewards                        \n",
    "        dones = env_info.local_done   \n",
    "        \n",
    "        scores = [scores[j] + env_info.rewards[j] for j in range(20)]\n",
    "        states = next_states   \n",
    "        \n",
    "        if np.any(dones):                                 \n",
    "            break\n",
    "    print(f\"Mean scores from group {i+1}: {np.mean(scores)}\")"
   ]
  },
  {
   "cell_type": "code",
   "execution_count": null,
   "metadata": {},
   "outputs": [],
   "source": []
  }
 ],
 "metadata": {
  "kernelspec": {
   "display_name": "dr_cw1",
   "language": "python",
   "name": "dr_cw1"
  },
  "language_info": {
   "codemirror_mode": {
    "name": "ipython",
    "version": 3
   },
   "file_extension": ".py",
   "mimetype": "text/x-python",
   "name": "python",
   "nbconvert_exporter": "python",
   "pygments_lexer": "ipython3",
   "version": "3.6.13"
  }
 },
 "nbformat": 4,
 "nbformat_minor": 4
}
